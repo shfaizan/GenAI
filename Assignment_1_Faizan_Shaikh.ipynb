{
  "nbformat": 4,
  "nbformat_minor": 0,
  "metadata": {
    "colab": {
      "provenance": [],
      "authorship_tag": "ABX9TyP63CHIHf/6V5OsdYbRTvwd",
      "include_colab_link": true
    },
    "kernelspec": {
      "name": "python3",
      "display_name": "Python 3"
    },
    "language_info": {
      "name": "python"
    }
  },
  "cells": [
    {
      "cell_type": "markdown",
      "metadata": {
        "id": "view-in-github",
        "colab_type": "text"
      },
      "source": [
        "<a href=\"https://colab.research.google.com/github/shfaizan/GenAI/blob/main/Assignment_1_Faizan_Shaikh.ipynb\" target=\"_parent\"><img src=\"https://colab.research.google.com/assets/colab-badge.svg\" alt=\"Open In Colab\"/></a>"
      ]
    },
    {
      "cell_type": "markdown",
      "source": [
        "# Assignment 1:\n",
        "\n",
        "## Q-1 Find the percentage of major colors in an image.\n",
        "\n"
      ],
      "metadata": {
        "id": "BNFdBcc3-TrH"
      }
    },
    {
      "cell_type": "markdown",
      "source": [
        "### Step 1: Import the libraries"
      ],
      "metadata": {
        "id": "GpkyHucO-fFB"
      }
    },
    {
      "cell_type": "code",
      "source": [
        "from PIL import Image\n",
        "import matplotlib.pyplot as plt"
      ],
      "metadata": {
        "id": "rHEEkttC-kQR"
      },
      "execution_count": 3,
      "outputs": []
    },
    {
      "cell_type": "markdown",
      "source": [
        "### Define a function to get major colors from an image:\n",
        "\n",
        "def get_major_colors(image_path, num_colors=5):: This line defines a function named get_major_colors that takes an image_path as input (the path to the image file) and an optional num_colors parameter (default value is 5).\n",
        "\n",
        "image = Image.open(image_path): This line opens the image file located at image_path using the PIL (Python Imaging Library) Image.open() function.\n",
        "\n",
        "pixels = list(image.getdata()): This line retrieves the pixel data of the image using the getdata() method of the image object. It converts the pixel data into a list.\n",
        "\n",
        "color_count = {}: This line initializes an empty dictionary named color_count to store the count of each color in the image.\n",
        "\n",
        "total_pixels = len(pixels): This line calculates the total number of pixels in the image by taking the length of the pixels list.\n",
        "\n",
        "The following loop iterates over each pixel in the pixels list:\n",
        "\n",
        "If the pixel is already in the color_count dictionary, its count is incremented.\n",
        "If the pixel is not in the dictionary, it is added with a count of 1.\n",
        "sorted_colors = sorted(color_count.items(), key=lambda x: x[1], reverse=True): This line sorts the items (color-count pairs) in the color_count dictionary based on the count (value) in descending order.\n",
        "\n",
        "The loop for color, count in sorted_colors[:num_colors]: iterates over the first num_colors items in the sorted list of color-count pairs:\n",
        "\n",
        "It extracts the color and its corresponding count.\n",
        "It calculates the percentage of pixels for each color and appends them to the major_colors and percentages lists, respectively.\n",
        "Finally, the function returns the lists major_colors and percentages, which contain the major colors and their corresponding percentages in the image, respectively."
      ],
      "metadata": {
        "id": "RTs8Lkp1-ntQ"
      }
    },
    {
      "cell_type": "code",
      "execution_count": 4,
      "metadata": {
        "id": "TnsxVatg842M"
      },
      "outputs": [],
      "source": [
        "def get_major_colors(image_path, num_colors=5):\n",
        "    image = Image.open(image_path)\n",
        "    pixels = list(image.getdata())\n",
        "\n",
        "    color_count = {}\n",
        "    total_pixels = len(pixels)\n",
        "\n",
        "    for pixel in pixels:\n",
        "        if pixel in color_count:\n",
        "            color_count[pixel] += 1\n",
        "        else:\n",
        "            color_count[pixel] = 1\n",
        "\n",
        "    sorted_colors = sorted(color_count.items(), key=lambda x: x[1], reverse=True)\n",
        "\n",
        "    major_colors = []\n",
        "    percentages = []\n",
        "\n",
        "    for color, count in sorted_colors[:num_colors]:\n",
        "        major_colors.append(color)\n",
        "        percentages.append(count / total_pixels * 100)\n",
        "\n",
        "    return major_colors, percentages"
      ]
    },
    {
      "cell_type": "markdown",
      "source": [
        "### Define a function to generate a bar graph:"
      ],
      "metadata": {
        "id": "slEm4Ra3-0x5"
      }
    },
    {
      "cell_type": "code",
      "source": [
        "def generate_bar_graph(colors, percentages):\n",
        "    plt.figure(figsize=(8, 6))\n",
        "    plt.bar(range(len(colors)), percentages, color=[(r / 255, g / 255, b / 255) for (r, g, b) in colors])\n",
        "    plt.xlabel('Color')\n",
        "    plt.ylabel('Percentage')\n",
        "    plt.title('Major Colors in Image')\n",
        "    plt.xticks(range(len(colors)), ['Color {}'.format(i+1) for i in range(len(colors))])\n",
        "    plt.show()\n",
        "\n"
      ],
      "metadata": {
        "id": "qz50Mxuu9Tw1"
      },
      "execution_count": 5,
      "outputs": []
    },
    {
      "cell_type": "markdown",
      "source": [
        "### Main block to execute the program:"
      ],
      "metadata": {
        "id": "w1rYaeDD-SuR"
      }
    },
    {
      "cell_type": "code",
      "source": [
        "if __name__ == \"__main__\":\n",
        "    image_path = \"cat.jpeg\"  # we can replace this with the path to our image\n",
        "    num_colors = 5  # We can adjust the number of major colors to consider\n",
        "\n",
        "    colors, percentages = get_major_colors(image_path, num_colors)\n",
        "    generate_bar_graph(colors, percentages)\n"
      ],
      "metadata": {
        "colab": {
          "base_uri": "https://localhost:8080/",
          "height": 564
        },
        "id": "OBwMcQ5U-4_x",
        "outputId": "78e156a9-b5e1-4a82-8d22-780377bb4e19"
      },
      "execution_count": 6,
      "outputs": [
        {
          "output_type": "display_data",
          "data": {
            "text/plain": [
              "<Figure size 800x600 with 1 Axes>"
            ],
            "image/png": "[encoded data removed]"
          },
          "metadata": {}
        }
      ]
    },
    {
      "cell_type": "markdown",
      "source": [
        "This code calculates the major colors in an image along with their respective percentages and generates a bar graph representing this information. It uses the Python Imaging Library (PIL) to manipulate images and the Matplotlib library to create the bar graph."
      ],
      "metadata": {
        "id": "sHyHC1oY_RCH"
      }
    },
    {
      "cell_type": "markdown",
      "source": [
        "## Q-2 Derive similarity score between two sentences applying three different techniques."
      ],
      "metadata": {
        "id": "E40XBr-SJKVe"
      }
    },
    {
      "cell_type": "markdown",
      "source": [
        "### Importing necessary libraries"
      ],
      "metadata": {
        "id": "XLj7Rj3hJXob"
      }
    },
    {
      "cell_type": "code",
      "source": [
        "import numpy as np\n",
        "from sklearn.feature_extraction.text import CountVectorizer\n",
        "from sklearn.metrics.pairwise import cosine_similarity\n",
        "from nltk.metrics import jaccard_distance\n",
        "from nltk import edit_distance"
      ],
      "metadata": {
        "id": "d6QovCuCJWw4"
      },
      "execution_count": 8,
      "outputs": []
    },
    {
      "cell_type": "markdown",
      "source": [
        "### Method 1: Cosine Similarity\n",
        "\n",
        "For cosine similarity, we first vectorize the sentences using CountVectorizer, then compute the cosine similarity between the vectors."
      ],
      "metadata": {
        "id": "18xYfM0AJb-R"
      }
    },
    {
      "cell_type": "code",
      "source": [
        "def cosine_similarity_score(sentence1, sentence2):\n",
        "    vectorizer = CountVectorizer().fit_transform([sentence1, sentence2])\n",
        "    vectors = vectorizer.toarray()\n",
        "    return cosine_similarity(vectors)[0, 1]"
      ],
      "metadata": {
        "id": "i2D5cEPZJgFd"
      },
      "execution_count": 9,
      "outputs": []
    },
    {
      "cell_type": "markdown",
      "source": [
        "### Method 2: Jaccard similarity\n",
        "\n",
        "For Jaccard similarity, we tokenize the sentences into words, then compute the Jaccard distance, and finally subtract it from 1 to get the similarity."
      ],
      "metadata": {
        "id": "KqiGw0U2Jkmx"
      }
    },
    {
      "cell_type": "code",
      "source": [
        "def jaccard_similarity_score(sentence1, sentence2):\n",
        "    words1 = set(sentence1.split())\n",
        "    words2 = set(sentence2.split())\n",
        "    return 1 - jaccard_distance(words1, words2)"
      ],
      "metadata": {
        "id": "rPVLoHXCJjQw"
      },
      "execution_count": 10,
      "outputs": []
    },
    {
      "cell_type": "markdown",
      "source": [
        "### Method 3: Levenshtein similarity\n",
        "\n",
        "For Levenshtein similarity, we simply compute the Levenshtein distance between the two sentences, normalize it by the maximum length of the sentences, and subtract it from 1 to get the similarity score."
      ],
      "metadata": {
        "id": "lmY6V-dAJrNx"
      }
    },
    {
      "cell_type": "code",
      "source": [
        "def levenshtein_similarity_score(sentence1, sentence2):\n",
        "    return 1 - edit_distance(sentence1, sentence2) / max(len(sentence1), len(sentence2))"
      ],
      "metadata": {
        "id": "SGXEkvPTJqsn"
      },
      "execution_count": 11,
      "outputs": []
    },
    {
      "cell_type": "markdown",
      "source": [
        "### Main block to test the code"
      ],
      "metadata": {
        "id": "nVexUCgZJ59q"
      }
    },
    {
      "cell_type": "code",
      "source": [
        "if __name__ == \"__main__\":\n",
        "    sentence1 = \"the cat is on the mat\"\n",
        "    sentence2 = \"the mat is under the cat\"\n",
        "\n",
        "    cosine_sim = cosine_similarity_score(sentence1, sentence2)\n",
        "    jaccard_sim = jaccard_similarity_score(sentence1, sentence2)\n",
        "    levenshtein_sim = levenshtein_similarity_score(sentence1, sentence2)\n",
        "\n",
        "    # Calculate average similarity\n",
        "    average_similarity = (cosine_sim + jaccard_sim + levenshtein_sim) / 3\n",
        "\n",
        "    # Convert average similarity to percentage\n",
        "    average_similarity_percentage = int(average_similarity * 100)\n",
        "\n",
        "    print(\"Cosine Similarity:\", cosine_sim)\n",
        "    print(\"Jaccard Similarity:\", jaccard_sim)\n",
        "    print(\"Levenshtein Similarity:\", levenshtein_sim)\n",
        "    print(\"Average Similarity:\", average_similarity_percentage, \"%\")"
      ],
      "metadata": {
        "colab": {
          "base_uri": "https://localhost:8080/"
        },
        "id": "MoNh3dhg_dcD",
        "outputId": "ea6823fb-f134-4078-daa3-184eb83f23b6"
      },
      "execution_count": 17,
      "outputs": [
        {
          "output_type": "stream",
          "name": "stdout",
          "text": [
            "Cosine Similarity: 0.8749999999999999\n",
            "Jaccard Similarity: 0.6666666666666667\n",
            "Levenshtein Similarity: 0.75\n",
            "Average Similarity: 76 %\n"
          ]
        }
      ]
    },
    {
      "cell_type": "code",
      "source": [
        "if __name__ == \"__main__\":\n",
        "    sentence1 = \"The quick brown fox jumps over the lazy dog\"\n",
        "    sentence2 = \"A fast brown fox leaps over a lazy hound\"\n",
        "\n",
        "    cosine_sim = cosine_similarity_score(sentence1, sentence2)\n",
        "    jaccard_sim = jaccard_similarity_score(sentence1, sentence2)\n",
        "    levenshtein_sim = levenshtein_similarity_score(sentence1, sentence2)\n",
        "\n",
        "    # Calculate average similarity\n",
        "    average_similarity = (cosine_sim + jaccard_sim + levenshtein_sim) / 3\n",
        "\n",
        "    # Convert average similarity to percentage\n",
        "    average_similarity_percentage = int(average_similarity * 100)\n",
        "\n",
        "    print(\"Cosine Similarity:\", cosine_sim)\n",
        "    print(\"Jaccard Similarity:\", jaccard_sim)\n",
        "    print(\"Levenshtein Similarity:\", levenshtein_sim)\n",
        "    print(\"Average Similarity:\", average_similarity_percentage, \"%\")"
      ],
      "metadata": {
        "colab": {
          "base_uri": "https://localhost:8080/"
        },
        "id": "XPKl_VUL_ILv",
        "outputId": "9d00a388-328f-4205-ade0-4d250e893a46"
      },
      "execution_count": 18,
      "outputs": [
        {
          "output_type": "stream",
          "name": "stdout",
          "text": [
            "Cosine Similarity: 0.45584230583855173\n",
            "Jaccard Similarity: 0.2857142857142857\n",
            "Levenshtein Similarity: 0.5813953488372092\n",
            "Average Similarity: 44 %\n"
          ]
        }
      ]
    },
    {
      "cell_type": "markdown",
      "source": [
        "As mentinon in the requirement I have completed the first two parts of this week's assignment."
      ],
      "metadata": {
        "id": "E31hSXyrM1Af"
      }
    }
  ]
}