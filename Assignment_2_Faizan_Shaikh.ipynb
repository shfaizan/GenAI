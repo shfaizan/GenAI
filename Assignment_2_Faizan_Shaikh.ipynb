{
  "cells": [
    {
      "cell_type": "markdown",
      "metadata": {
        "id": "view-in-github",
        "colab_type": "text"
      },
      "source": [
        "<a href=\"https://colab.research.google.com/github/shfaizan/GenAI/blob/main/Assignment_2_Faizan_Shaikh.ipynb\" target=\"_parent\"><img src=\"https://colab.research.google.com/assets/colab-badge.svg\" alt=\"Open In Colab\"/></a>"
      ]
    },
    {
      "cell_type": "markdown",
      "metadata": {
        "id": "qMj8-iUYpABV"
      },
      "source": [
        "## Study the back-propagation algorithm.\n",
        "\n",
        "Based on the back propogation documents I can deduce that Backpropagation is a key algorithm in training neural networks, focusing on adjusting the weights of the network based on the error rate observed during training. It operates in two main phases: forward propagation, where the input data moves through the network to generate an output, and backward propagation, where the error from the output is traced back through the network to adjust the weights accordingly. This process helps in fine-tuning the network to achieve lower error rates, thereby enhancing its reliability and generalization capabilities.\n",
        "\n",
        "There are overall four main steps in the backpropagation algorithm:\n",
        "\n",
        "* Forward pass.\n",
        "* Errors calculation.\n",
        "* Backward pass.\n",
        "* Weights update."
      ]
    },
    {
      "cell_type": "markdown",
      "source": [
        "## Implement a classifier for the loan data with Decision as the output attribute. Prepare the data as needed. Submit the notebook file.\n",
        "\n",
        "**Prepare the data:**\n",
        "\n",
        "* Load the dataset.\n",
        "* Handle missing values.\n",
        "* Encode categorical variables.\n",
        "* Split the dataset into training and testing sets.\n",
        "* Build the neural network:\n",
        "\n",
        "**Implementation of a Classifier:**\n",
        "\n",
        "* Use a suitable algorithm like a Neural Network classifier which can be implemented using libraries like TensorFlow or PyTorch.\n",
        "\n",
        "* Train the classifier on the training dataset.\n",
        "\n",
        "* Evaluate the classifier on the test dataset.\n"
      ],
      "metadata": {
        "id": "iDNYU2qJ5QK2"
      }
    },
    {
      "cell_type": "markdown",
      "source": [
        "### Imports and Dataset Loading:"
      ],
      "metadata": {
        "id": "6iei4wZxPriQ"
      }
    },
    {
      "cell_type": "code",
      "source": [
        "import pandas as pd\n",
        "import numpy as np\n",
        "from sklearn.model_selection import train_test_split\n",
        "from sklearn.preprocessing import LabelEncoder, StandardScaler\n",
        "from sklearn.neural_network import MLPClassifier\n",
        "from sklearn.metrics import accuracy_score, classification_report\n",
        "\n",
        "# Load the dataset\n",
        "# I have named it loan.xlsx\n",
        "data = pd.read_excel('loan.xlsx')\n"
      ],
      "metadata": {
        "id": "aOQNCZo7PrI3"
      },
      "execution_count": 8,
      "outputs": []
    },
    {
      "cell_type": "markdown",
      "source": [
        "Here, we import necessary libraries for data manipulation, preprocessing, neural network modeling, and evaluation. Then, we load the dataset loan.xlsx into a Pandas DataFrame named data."
      ],
      "metadata": {
        "id": "FQygQX9cPywf"
      }
    },
    {
      "cell_type": "markdown",
      "source": [
        "### Handling Missing Values and Encoding Categorical Variables:"
      ],
      "metadata": {
        "id": "SPce5rLXPzuC"
      }
    },
    {
      "cell_type": "code",
      "source": [
        "# Handle missing values (if any)\n",
        "data = data.dropna()\n",
        "\n",
        "# Encode categorical variables\n",
        "label_encoders = {}\n",
        "categorical_columns = ['Sex', 'Res_status', 'Telephone', 'Occupation', 'Job_status', 'Liab_ref', 'Acc_ref', 'Decision']\n",
        "\n",
        "for col in categorical_columns:\n",
        "    le = LabelEncoder()\n",
        "    data[col] = le.fit_transform(data[col].astype(str))\n",
        "    label_encoders[col] = le\n"
      ],
      "metadata": {
        "id": "NAGh6lUUP45d"
      },
      "execution_count": 9,
      "outputs": []
    },
    {
      "cell_type": "markdown",
      "source": [
        "This part removes any rows with missing values and encodes categorical variables using LabelEncoder. It converts categorical values to numerical representations."
      ],
      "metadata": {
        "id": "yyOFQhr5P7e6"
      }
    },
    {
      "cell_type": "markdown",
      "source": [
        "### Splitting Data and Standardization:"
      ],
      "metadata": {
        "id": "78SzFhDjQBzB"
      }
    },
    {
      "cell_type": "code",
      "source": [
        "# Separate features and target variable\n",
        "X = data.drop(columns='Decision')\n",
        "y = data['Decision']\n",
        "\n",
        "# Split the data into training and testing sets\n",
        "X_train, X_test, y_train, y_test = train_test_split(X, y, test_size=0.2, random_state=42)\n",
        "\n",
        "# Standardize the data\n",
        "scaler = StandardScaler()\n",
        "X_train = scaler.fit_transform(X_train)\n",
        "X_test = scaler.transform(X_test)\n"
      ],
      "metadata": {
        "id": "hanC54UtP_ej"
      },
      "execution_count": 11,
      "outputs": []
    },
    {
      "cell_type": "markdown",
      "source": [
        "This part splits the data into features (X) and the target variable (y). Then, it divides the dataset into training and testing sets using train_test_split(). Finally, it standardizes the features using StandardScaler()."
      ],
      "metadata": {
        "id": "GDuLTLtIQICy"
      }
    },
    {
      "cell_type": "markdown",
      "source": [
        "### Neural Network Model Definition and Training:"
      ],
      "metadata": {
        "id": "PEVoF-0JQK4C"
      }
    },
    {
      "cell_type": "code",
      "source": [
        "# Define the neural network architecture and necessary functions\n",
        "class NeuralNetwork:\n",
        "    def __init__(self, input_size, hidden_size, output_size):\n",
        "        self.input_size = input_size\n",
        "        self.hidden_size = hidden_size\n",
        "        self.output_size = output_size\n",
        "\n",
        "        # Initialize weights\n",
        "        self.W1 = np.random.randn(self.input_size, self.hidden_size)\n",
        "        self.W2 = np.random.randn(self.hidden_size, self.output_size)\n",
        "\n",
        "    # I have used sigmoid becasuse The sigmoid and sigmoid_derivative functions\n",
        "    # are crucial for the neural network's forward and backward propagation\n",
        "    # processes. Here's an explanation of each function:\n",
        "\n",
        "\n",
        "    def sigmoid(self, z):\n",
        "        return 1 / (1 + np.exp(-z))\n",
        "\n",
        "    def sigmoid_derivative(self, z):\n",
        "        return z * (1 - z)\n",
        "\n",
        "    def forward(self, X):\n",
        "        self.Z1 = np.dot(X, self.W1)\n",
        "        self.A1 = self.sigmoid(self.Z1)\n",
        "        self.Z2 = np.dot(self.A1, self.W2)\n",
        "        self.A2 = self.sigmoid(self.Z2)\n",
        "        return self.A2\n",
        "\n",
        "    def backward(self, X, y, output, learning_rate):\n",
        "        self.error = y - output\n",
        "        self.output_gradient = self.error * self.sigmoid_derivative(output)\n",
        "\n",
        "        self.A1_error = self.output_gradient.dot(self.W2.T)\n",
        "        self.A1_gradient = self.A1_error * self.sigmoid_derivative(self.A1)\n",
        "\n",
        "        self.W2 += self.A1.T.dot(self.output_gradient) * learning_rate\n",
        "        self.W1 += X.T.dot(self.A1_gradient) * learning_rate\n",
        "\n",
        "    def train(self, X, y, learning_rate=0.01, epochs=10000):\n",
        "        y = y.values.reshape(-1, 1)  # Convert Series to array and reshape\n",
        "        for epoch in range(epochs):\n",
        "            output = self.forward(X)\n",
        "            self.backward(X, y, output, learning_rate)\n",
        "            if (epoch + 1) % 1000 == 0:\n",
        "                loss = np.mean(np.square(y - output))\n",
        "                print(f'Epoch {epoch + 1}, Loss: {loss}')\n",
        "\n",
        "    def predict(self, X):\n",
        "        output = self.forward(X)\n",
        "        return np.round(output)\n",
        "\n",
        "# Initialize the neural network\n",
        "input_size = X_train.shape[1]\n",
        "hidden_size = 10  # You can change the hidden layer size\n",
        "output_size = 1\n",
        "\n",
        "nn = NeuralNetwork(input_size, hidden_size, output_size)\n",
        "\n",
        "# Train the neural network\n",
        "nn.train(X_train, y_train, learning_rate=0.01, epochs=10000)"
      ],
      "metadata": {
        "colab": {
          "base_uri": "https://localhost:8080/"
        },
        "id": "OCsScMZJQOBV",
        "outputId": "b97b24e6-1a90-454b-ee7a-6274cce7ccdd"
      },
      "execution_count": 13,
      "outputs": [
        {
          "output_type": "stream",
          "name": "stdout",
          "text": [
            "Epoch 1000, Loss: 0.10206939770344144\n",
            "Epoch 2000, Loss: 0.07309702825677016\n",
            "Epoch 3000, Loss: 0.05451387765249801\n",
            "Epoch 4000, Loss: 0.04371849339706554\n",
            "Epoch 5000, Loss: 0.03655970885435705\n",
            "Epoch 6000, Loss: 0.03253101923231155\n",
            "Epoch 7000, Loss: 0.029031888314536562\n",
            "Epoch 8000, Loss: 0.027179945044461827\n",
            "Epoch 9000, Loss: 0.025950909727851648\n",
            "Epoch 10000, Loss: 0.025051719122141335\n"
          ]
        }
      ]
    },
    {
      "cell_type": "markdown",
      "source": [
        "This part defines a neural network class with methods for initialization, forward pass, backward pass, training, and prediction. Then, it initializes a neural network object (nn) with the specified input, hidden, and output sizes, and trains the neural network on the training data."
      ],
      "metadata": {
        "id": "SCZXTTFMQ1_G"
      }
    },
    {
      "cell_type": "markdown",
      "source": [
        "### Classifier Model Training and Evaluation:"
      ],
      "metadata": {
        "id": "eAiorcp_Q8qi"
      }
    },
    {
      "cell_type": "code",
      "source": [
        "# Implement the classifier\n",
        "clf = MLPClassifier(hidden_layer_sizes=(10, 10), max_iter=1000, random_state=42)\n",
        "clf.fit(X_train, y_train)\n",
        "\n",
        "# Make predictions\n",
        "y_pred = clf.predict(X_test)\n",
        "\n",
        "# Evaluate the classifier\n",
        "print(\"Accuracy:\", accuracy_score(y_test, y_pred))\n",
        "print(\"Classification Report:\\n\", classification_report(y_test, y_pred))\n"
      ],
      "metadata": {
        "colab": {
          "base_uri": "https://localhost:8080/"
        },
        "id": "4g7H8SVnQ5U8",
        "outputId": "076d7764-ce23-4fa5-f824-16c6de8c6ea7"
      },
      "execution_count": 14,
      "outputs": [
        {
          "output_type": "stream",
          "name": "stdout",
          "text": [
            "Accuracy: 0.7325581395348837\n",
            "Classification Report:\n",
            "               precision    recall  f1-score   support\n",
            "\n",
            "           0       0.78      0.65      0.71        43\n",
            "           1       0.70      0.81      0.75        43\n",
            "\n",
            "    accuracy                           0.73        86\n",
            "   macro avg       0.74      0.73      0.73        86\n",
            "weighted avg       0.74      0.73      0.73        86\n",
            "\n"
          ]
        },
        {
          "output_type": "stream",
          "name": "stderr",
          "text": [
            "/usr/local/lib/python3.10/dist-packages/sklearn/neural_network/_multilayer_perceptron.py:686: ConvergenceWarning: Stochastic Optimizer: Maximum iterations (1000) reached and the optimization hasn't converged yet.\n",
            "  warnings.warn(\n"
          ]
        }
      ]
    },
    {
      "cell_type": "markdown",
      "source": [
        "This part initializes and trains a classifier (MLPClassifier) with specified parameters on the training data. Then, it makes predictions on the testing data and evaluates the classifier's performance using accuracy and classification report."
      ],
      "metadata": {
        "id": "KE3npnUbRFgF"
      }
    },
    {
      "cell_type": "markdown",
      "source": [
        "### Displaying Target Variable Mapping and User Input Prediction Function:"
      ],
      "metadata": {
        "id": "BIhPTbX6RKN7"
      }
    },
    {
      "cell_type": "code",
      "source": [
        "# Display the mapping of the target variable\n",
        "decision_mapping = dict(enumerate(label_encoders['Decision'].classes_))\n",
        "print(\"Decision Mapping:\", decision_mapping)\n",
        "\n",
        "# Function to predict decision based on user input\n",
        "def predict_decision():\n",
        "    # Gather user input for each feature\n",
        "    user_data = {}\n",
        "    for col in X.columns:\n",
        "        if col in categorical_columns:\n",
        "            print(f\"Enter {col} ({', '.join(label_encoders[col].classes_)}):\")\n",
        "            user_input = input().strip()\n",
        "            while user_input not in label_encoders[col].classes_:\n",
        "                print(f\"Invalid input. Please enter one of the following: {', '.join(label_encoders[col].classes_)}\")\n",
        "                user_input = input().strip()\n",
        "            user_data[col] = label_encoders[col].transform([user_input])[0]\n",
        "        else:\n",
        "            print(f\"Enter {col} (numeric value):\")\n",
        "            user_input = input().strip()\n",
        "            while not user_input.replace('.', '', 1).isdigit():\n",
        "                print(\"Invalid input. Please enter a numeric value.\")\n",
        "                user_input = input().strip()\n",
        "            user_data[col] = float(user_input)\n",
        "\n",
        "    # Convert user input into DataFrame\n",
        "    user_df = pd.DataFrame(user_data, index=[0])\n",
        "\n",
        "    # Standardize the user input\n",
        "    user_df_scaled = scaler.transform(user_df)\n",
        "\n",
        "    # Predict the decision\n",
        "    prediction = clf.predict(user_df_scaled)\n",
        "    predicted_decision = le_decision.inverse_transform(prediction)\n",
        "\n",
        "    print(f\"The predicted decision is: {predicted_decision[0]}\")\n",
        "\n",
        "# Call the function to predict decision based on user input\n",
        "predict_decision()\n"
      ],
      "metadata": {
        "colab": {
          "base_uri": "https://localhost:8080/"
        },
        "id": "6Ry4MVJaRNFs",
        "outputId": "41063ba9-2c74-4f54-ecbb-36c0533250f4"
      },
      "execution_count": 16,
      "outputs": [
        {
          "output_type": "stream",
          "name": "stdout",
          "text": [
            "Decision Mapping: {0: 'accept', 1: 'reject'}\n",
            "Enter Sex (F, M):\n",
            "M\n",
            "Enter Age (numeric value):\n",
            "25\n",
            "Enter Time_at_address (numeric value):\n",
            "14\n",
            "Enter Res_status (owner, rent):\n",
            "owner\n",
            "Enter Telephone (given, not_given):\n",
            "given\n",
            "Enter Occupation (creative_, driver, executive, guard_etc, labourer, manager, office_st, productio, professio, sales, semi_pro, unemploye):\n",
            "manager\n",
            "Enter Job_status (governmen, military, private_s, retired, self_empl, student, unemploye):\n",
            "private_s\n",
            "Enter Time_employed (numeric value):\n",
            "5\n",
            "Enter Time_bank (numeric value):\n",
            "14\n",
            "Enter Liab_ref (f, t):\n",
            "t\n",
            "Enter Acc_ref (given, oth_inst_):\n",
            "given\n",
            "Enter Home_Expn (numeric value):\n",
            "145\n",
            "Enter Balance (numeric value):\n",
            "2000\n",
            "The predicted decision is: accept\n"
          ]
        }
      ]
    },
    {
      "cell_type": "markdown",
      "source": [
        "This part displays the mapping of the target variable and defines a function predict_decision() to predict the decision based on user input. Finally, it calls the predict_decision() function to demonstrate how to use it.\n",
        "\n",
        "As seen in the above example I have added the input and the predicted decision came as accept."
      ],
      "metadata": {
        "id": "53mtWQ6sRbS7"
      }
    }
  ],
  "metadata": {
    "colab": {
      "provenance": [],
      "authorship_tag": "ABX9TyPXLTs8hT26fDyrLqyrhlim",
      "include_colab_link": true
    },
    "kernelspec": {
      "display_name": "Python 3",
      "name": "python3"
    },
    "language_info": {
      "name": "python"
    }
  },
  "nbformat": 4,
  "nbformat_minor": 0
}